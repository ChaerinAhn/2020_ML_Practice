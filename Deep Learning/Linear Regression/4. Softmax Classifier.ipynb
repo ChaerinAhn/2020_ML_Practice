{
 "cells": [
  {
   "cell_type": "code",
   "execution_count": 73,
   "metadata": {},
   "outputs": [
    {
     "name": "stdout",
     "output_type": "stream",
     "text": [
      "[[1. 2. 1. 1.]\n",
      " [2. 1. 3. 2.]\n",
      " [3. 1. 3. 4.]\n",
      " [4. 1. 5. 5.]\n",
      " [1. 7. 5. 5.]\n",
      " [1. 2. 5. 6.]\n",
      " [1. 6. 6. 6.]\n",
      " [1. 7. 7. 7.]]\n",
      "[[0. 0. 1.]\n",
      " [0. 0. 1.]\n",
      " [0. 0. 1.]\n",
      " [0. 1. 0.]\n",
      " [0. 1. 0.]\n",
      " [0. 1. 0.]\n",
      " [1. 0. 0.]\n",
      " [1. 0. 0.]]\n"
     ]
    }
   ],
   "source": [
    "import tensorflow as tf\n",
    "tf.random.set_seed(777)\n",
    "import numpy as np\n",
    "\n",
    "x_data = [[1, 2, 1, 1],\n",
    "          [2, 1, 3, 2],\n",
    "          [3, 1, 3, 4],\n",
    "          [4, 1, 5, 5],\n",
    "          [1, 7, 5, 5],\n",
    "          [1, 2, 5, 6],\n",
    "          [1, 6, 6, 6],\n",
    "          [1, 7, 7, 7]]\n",
    "y_data = [[0, 0, 1],\n",
    "          [0, 0, 1],\n",
    "          [0, 0, 1],\n",
    "          [0, 1, 0],\n",
    "          [0, 1, 0],\n",
    "          [0, 1, 0],\n",
    "          [1, 0, 0],\n",
    "          [1, 0, 0]]\n",
    "x_data = np.asarray(x_data, dtype = np.float32)  #numpy 형태로 변환시킴\n",
    "y_data = np.asarray(y_data, dtype = np.float32 )\n",
    "nb_classes = 3\n",
    "print(x_data)\n",
    "print(y_data)"
   ]
  },
  {
   "cell_type": "code",
   "execution_count": 74,
   "metadata": {
    "scrolled": true
   },
   "outputs": [
    {
     "name": "stdout",
     "output_type": "stream",
     "text": [
      "<tf.Variable 'weight:0' shape=(4, 3) dtype=float32, numpy=\n",
      "array([[ 0.7706481 ,  0.37335402, -0.05576323],\n",
      "       [ 0.00358377, -0.5898363 ,  1.5702795 ],\n",
      "       [ 0.2460895 , -0.09918973,  1.4418385 ],\n",
      "       [ 0.3200988 ,  0.526784  , -0.7703731 ]], dtype=float32)> <tf.Variable 'bias:0' shape=(3,) dtype=float32, numpy=array([-1.3080608 , -0.13253094,  0.5513761 ], dtype=float32)>\n"
     ]
    }
   ],
   "source": [
    "W = tf.Variable(tf.random.normal([4, nb_classes]), name = 'weight')\n",
    "b = tf.Variable(tf.random.normal([nb_classes]), name = 'bias')\n",
    "variables = [W, b]\n",
    "print(W, b)"
   ]
  },
  {
   "cell_type": "code",
   "execution_count": 75,
   "metadata": {
    "scrolled": true
   },
   "outputs": [
    {
     "name": "stdout",
     "output_type": "stream",
     "text": [
      "tf.Tensor(\n",
      "[[1.36571955e-02 7.90162385e-03 9.78441238e-01]\n",
      " [3.92598137e-02 1.70347560e-02 9.43705440e-01]\n",
      " [3.80385250e-01 1.67723224e-01 4.51891541e-01]\n",
      " [3.23390484e-01 5.90759404e-02 6.17533624e-01]\n",
      " [3.62997412e-06 6.20727292e-08 9.99996305e-01]\n",
      " [2.62520462e-02 1.07279727e-02 9.63019967e-01]\n",
      " [1.56525111e-05 4.21802781e-07 9.99983907e-01]\n",
      " [2.94077745e-06 3.81134022e-08 9.99997020e-01]], shape=(8, 3), dtype=float32)\n"
     ]
    }
   ],
   "source": [
    "def hypothesis(X) :\n",
    "    return tf.nn.softmax(tf.matmul(X,W) + b)\n",
    "\n",
    "print(hypothesis(x_data))"
   ]
  },
  {
   "cell_type": "code",
   "execution_count": 76,
   "metadata": {},
   "outputs": [
    {
     "name": "stdout",
     "output_type": "stream",
     "text": [
      "tf.Tensor([[0.9302204  0.06200533 0.00777428]], shape=(1, 3), dtype=float32)\n"
     ]
    }
   ],
   "source": [
    "# Softmax one hot test\n",
    "sample_db = [[8, 2, 1, 4]]\n",
    "sample_db = np.asarray(sample_db, dtype =np.float32)\n",
    "print(hypothesis(sample_db))"
   ]
  },
  {
   "cell_type": "code",
   "execution_count": 77,
   "metadata": {},
   "outputs": [
    {
     "name": "stdout",
     "output_type": "stream",
     "text": [
      "tf.Tensor(6.07932, shape=(), dtype=float32)\n"
     ]
    }
   ],
   "source": [
    "# cost function\n",
    "def cost_fn(X, Y):\n",
    "    logits = hypothesis(X)\n",
    "    cost = -tf.reduce_sum(Y * tf.math.log(logits), axis =1)\n",
    "    cost_mean = tf.reduce_mean(cost)\n",
    "    return cost_mean\n",
    "print(cost_fn(x_data, y_data))"
   ]
  },
  {
   "cell_type": "code",
   "execution_count": 78,
   "metadata": {},
   "outputs": [
    {
     "name": "stdout",
     "output_type": "stream",
     "text": [
      "[<tf.Tensor: id=964963, shape=(4, 3), dtype=float32, numpy=\n",
      "array([[ 0.06914611, -0.6509784 ,  0.5818323 ],\n",
      "       [-1.5221257 , -1.214863  ,  2.7369888 ],\n",
      "       [-1.2473828 , -1.7611002 ,  3.008483  ],\n",
      "       [-1.2014606 , -1.865923  ,  3.0673838 ]], dtype=float32)>, <tf.Tensor: id=964962, shape=(3,), dtype=float32, numpy=array([-0.15212911, -0.342192  ,  0.4943211 ], dtype=float32)>]\n"
     ]
    }
   ],
   "source": [
    "# Gradient function\n",
    "def grad_fn(X, Y):\n",
    "    with tf.GradientTape() as tape:\n",
    "        cost = cost_fn(X, Y)\n",
    "        grads = tape.gradient(cost, variables)\n",
    "        return grads\n",
    "print(grad_fn(x_data, y_data))"
   ]
  },
  {
   "cell_type": "code",
   "execution_count": 79,
   "metadata": {},
   "outputs": [
    {
     "name": "stdout",
     "output_type": "stream",
     "text": [
      "Loss at epoch 1: 2.849417\n",
      "Loss at epoch 100: 0.684151\n",
      "Loss at epoch 200: 0.613813\n",
      "Loss at epoch 300: 0.558204\n",
      "Loss at epoch 400: 0.508305\n",
      "Loss at epoch 500: 0.461059\n",
      "Loss at epoch 600: 0.415072\n",
      "Loss at epoch 700: 0.369636\n",
      "Loss at epoch 800: 0.324533\n",
      "Loss at epoch 900: 0.280721\n",
      "Loss at epoch 1000: 0.246752\n",
      "Loss at epoch 1100: 0.232798\n",
      "Loss at epoch 1200: 0.221645\n",
      "Loss at epoch 1300: 0.211476\n",
      "Loss at epoch 1400: 0.202164\n",
      "Loss at epoch 1500: 0.193606\n",
      "Loss at epoch 1600: 0.185714\n",
      "Loss at epoch 1700: 0.178415\n",
      "Loss at epoch 1800: 0.171645\n",
      "Loss at epoch 1900: 0.165350\n",
      "Loss at epoch 2000: 0.159483\n",
      "Loss at epoch 2100: 0.154003\n",
      "Loss at epoch 2200: 0.148872\n",
      "Loss at epoch 2300: 0.144060\n",
      "Loss at epoch 2400: 0.139539\n",
      "Loss at epoch 2500: 0.135283\n",
      "Loss at epoch 2600: 0.131269\n",
      "Loss at epoch 2700: 0.127480\n",
      "Loss at epoch 2800: 0.123896\n",
      "Loss at epoch 2900: 0.120501\n",
      "Loss at epoch 3000: 0.117282\n",
      "Loss at epoch 3100: 0.114226\n",
      "Loss at epoch 3200: 0.111319\n",
      "Loss at epoch 3300: 0.108553\n",
      "Loss at epoch 3400: 0.105917\n",
      "Loss at epoch 3500: 0.103402\n",
      "Loss at epoch 3600: 0.101001\n",
      "Loss at epoch 3700: 0.098706\n",
      "Loss at epoch 3800: 0.096509\n",
      "Loss at epoch 3900: 0.094406\n",
      "Loss at epoch 4000: 0.092391\n",
      "Loss at epoch 4100: 0.090457\n",
      "Loss at epoch 4200: 0.088601\n",
      "Loss at epoch 4300: 0.086817\n",
      "Loss at epoch 4400: 0.085102\n",
      "Loss at epoch 4500: 0.083452\n",
      "Loss at epoch 4600: 0.081864\n",
      "Loss at epoch 4700: 0.080333\n",
      "Loss at epoch 4800: 0.078857\n",
      "Loss at epoch 4900: 0.077433\n",
      "Loss at epoch 5000: 0.076059\n"
     ]
    }
   ],
   "source": [
    "# Train 시키기 \n",
    "def fit(X, Y, epochs=5000, verbose=100):\n",
    "    optimizer =  tf.keras.optimizers.SGD(learning_rate=0.1)\n",
    "    for i in range(epochs):\n",
    "        grads = grad_fn(X, Y)\n",
    "        optimizer.apply_gradients(zip(grads, variables))\n",
    "        if (i==0) | ((i+1)%verbose==0):\n",
    "            print('Loss at epoch %d: %f' %(i+1, cost_fn(X, Y).numpy()))\n",
    "            \n",
    "fit(x_data, y_data)"
   ]
  },
  {
   "cell_type": "code",
   "execution_count": 80,
   "metadata": {},
   "outputs": [
    {
     "name": "stdout",
     "output_type": "stream",
     "text": [
      "tf.Tensor(\n",
      "[[6.6137580e-09 7.2284871e-05 9.9992776e-01]\n",
      " [3.2846202e-04 3.7847254e-02 9.6182424e-01]\n",
      " [1.4289739e-10 7.9331651e-02 9.2066836e-01]\n",
      " [7.4088604e-08 9.2845166e-01 7.1548261e-02]\n",
      " [1.3415068e-01 8.6033237e-01 5.5169621e-03]\n",
      " [7.1083315e-02 9.2891544e-01 1.1928440e-06]\n",
      " [8.4745944e-01 1.5253913e-01 1.4169254e-06]\n",
      " [9.7736520e-01 2.2634877e-02 3.9788888e-09]], shape=(8, 3), dtype=float32)\n",
      "tf.Tensor([2 2 2 1 1 1 0 0], shape=(8,), dtype=int64)\n",
      "tf.Tensor([2 2 2 1 1 1 0 0], shape=(8,), dtype=int64)\n"
     ]
    }
   ],
   "source": [
    "# Prediction\n",
    "\n",
    "a = hypothesis(x_data)\n",
    "\n",
    "print(a)\n",
    "print(tf.argmax(a,1)) # 예측 \n",
    "print(tf.argmax(y_data, 1)) # 실제 정답\n",
    "\n",
    "# argmax(a,0)은 각 열 기준 가장 큰 값 갖는 인덱스를 반환\n",
    "# argmax(a,1)은 각 행 기준 가장 큰 값 갖는 인덱스를 반환"
   ]
  },
  {
   "cell_type": "code",
   "execution_count": 81,
   "metadata": {},
   "outputs": [
    {
     "name": "stdout",
     "output_type": "stream",
     "text": [
      "(101, 16) (101, 7)\n"
     ]
    }
   ],
   "source": [
    "# Zoo_classifier example\n",
    "\n",
    "xy = np.loadtxt('data-04-zoo.csv', delimiter=',', dtype=np.float32)\n",
    "x_data = xy[:, 0:-1]\n",
    "y_data = xy[:, -1]\n",
    "\n",
    "nb_classes = 7  # 0 ~ 6\n",
    "\n",
    "\n",
    "# Make Y data as onehot shape\n",
    "# 기존에 1차원 벡터였던 (101,1)형태에서 (101,7) 형태로 랭크 하나 올라감\n",
    "\n",
    "Y_one_hot = tf.one_hot(y_data.astype(np.int32), nb_classes)\n",
    "\n",
    "print(x_data.shape, Y_one_hot.shape)"
   ]
  },
  {
   "cell_type": "code",
   "execution_count": 82,
   "metadata": {},
   "outputs": [],
   "source": [
    "#Weight and bias setting\n",
    "\n",
    "W = tf.Variable(tf.random.normal((16, nb_classes)), name='weight')\n",
    "b = tf.Variable(tf.random.normal((nb_classes,)), name='bias')\n",
    "variables = [W, b]\n",
    "\n",
    "# 이번에는 내장된 함수 softmax사용해서 함수들 정의\n",
    "# 여기서 사실상 logits만 필요하고 hypothesis 는 없어도 된다. \n",
    "# 그러나 뒤에서 prediction 비교부분에서 필요해서 일단 정의해줌\n",
    "\n",
    "def logit_fn(X):\n",
    "    return tf.matmul(X, W) + b\n",
    "\n",
    "def hypothesis(X):\n",
    "    return tf.nn.softmax(logit_fn(X))\n",
    "\n",
    "\n",
    "#d 아래 cost fuction에는 hypothesis 대신 logit을 넣어줌 \n",
    "def cost_fn(X, Y):\n",
    "    logits = logit_fn(X)\n",
    "    cost_i = tf.keras.losses.categorical_crossentropy(y_true=Y, y_pred=logits, \n",
    "                                                      from_logits=True)    \n",
    "    cost = tf.reduce_mean(cost_i)    \n",
    "    return cost\n",
    "\n",
    "def grad_fn(X, Y):\n",
    "    with tf.GradientTape() as tape:\n",
    "        loss = cost_fn(X, Y)\n",
    "        grads = tape.gradient(loss, variables)\n",
    "        return grads\n",
    "    \n",
    "def prediction(X, Y):\n",
    "    pred = tf.argmax(hypothesis(X), 1)\n",
    "    correct_prediction = tf.equal(pred, tf.argmax(Y, 1))\n",
    "    accuracy = tf.reduce_mean(tf.cast(correct_prediction, tf.float32))\n",
    "\n",
    "    return accuracy"
   ]
  },
  {
   "cell_type": "code",
   "execution_count": 83,
   "metadata": {},
   "outputs": [
    {
     "name": "stdout",
     "output_type": "stream",
     "text": [
      "Steps: 1 Loss: 5.610101222991943, Acc: 0.1683168262243271\n",
      "Steps: 100 Loss: 0.6019306182861328, Acc: 0.8415841460227966\n",
      "Steps: 200 Loss: 0.38190871477127075, Acc: 0.9108911156654358\n",
      "Steps: 300 Loss: 0.2877010405063629, Acc: 0.9405940771102905\n",
      "Steps: 400 Loss: 0.23101475834846497, Acc: 0.9504950642585754\n",
      "Steps: 500 Loss: 0.19246312975883484, Acc: 0.9603960514068604\n",
      "Steps: 600 Loss: 0.16442006826400757, Acc: 0.9603960514068604\n",
      "Steps: 700 Loss: 0.14311201870441437, Acc: 0.9603960514068604\n",
      "Steps: 800 Loss: 0.12642517685890198, Acc: 0.9603960514068604\n",
      "Steps: 900 Loss: 0.11306188255548477, Acc: 0.9900990128517151\n",
      "Steps: 1000 Loss: 0.10216664522886276, Acc: 0.9900990128517151\n"
     ]
    }
   ],
   "source": [
    "def fit(X, Y, epochs=1000, verbose=100):\n",
    "    optimizer =  tf.keras.optimizers.SGD(learning_rate=0.1)\n",
    "\n",
    "    for i in range(epochs):\n",
    "        grads = grad_fn(X, Y)\n",
    "        optimizer.apply_gradients(zip(grads, variables))\n",
    "        if (i==0) | ((i+1)%verbose==0):\n",
    "# print('Loss at epoch %d: %f' %(i+1, cost_fn(X, Y).numpy()))\n",
    "            acc = prediction(X, Y).numpy()\n",
    "            loss = cost_fn(X, Y).numpy() \n",
    "            print('Steps: {} Loss: {}, Acc: {}'.format(i+1, loss, acc))\n",
    "\n",
    "fit(x_data, Y_one_hot)"
   ]
  },
  {
   "cell_type": "code",
   "execution_count": null,
   "metadata": {},
   "outputs": [],
   "source": []
  }
 ],
 "metadata": {
  "kernelspec": {
   "display_name": "Python 3",
   "language": "python",
   "name": "python3"
  },
  "language_info": {
   "codemirror_mode": {
    "name": "ipython",
    "version": 3
   },
   "file_extension": ".py",
   "mimetype": "text/x-python",
   "name": "python",
   "nbconvert_exporter": "python",
   "pygments_lexer": "ipython3",
   "version": "3.6.10"
  }
 },
 "nbformat": 4,
 "nbformat_minor": 4
}
