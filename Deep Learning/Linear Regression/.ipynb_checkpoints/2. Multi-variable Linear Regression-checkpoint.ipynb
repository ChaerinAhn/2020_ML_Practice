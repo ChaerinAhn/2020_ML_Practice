{
 "cells": [
  {
   "cell_type": "code",
   "execution_count": 24,
   "metadata": {},
   "outputs": [],
   "source": [
    "import tensorflow as tf\n",
    "x1 = [73, 93, 89, 96, 73]\n",
    "x2 = [80, 88, 91, 98, 66]\n",
    "x3 = [75, 93, 90, 100, 70]\n",
    "Y = [152, 185, 180, 196, 142]\n",
    "\n",
    "w1 = tf.Variable(tf.random.normal([1]))\n",
    "w2 = tf.Variable(tf.random.normal([1]))\n",
    "w3 = tf.Variable(tf.random.normal([1]))\n",
    "b = tf.Variable(tf.random.normal([1]))\n"
   ]
  },
  {
   "cell_type": "code",
   "execution_count": 72,
   "metadata": {},
   "outputs": [
    {
     "name": "stdout",
     "output_type": "stream",
     "text": [
      "num   |  cost  |   w1   |   w2   |   w3   |   b \n",
      "    0 |  0.2827|  1.2598|  0.6229|  0.1461| -1.0240\n",
      "   50 |  0.2825|  1.2596|  0.6228|  0.1464| -1.0240\n",
      "  100 |  0.2823|  1.2594|  0.6228|  0.1466| -1.0240\n",
      "  150 |  0.2821|  1.2593|  0.6227|  0.1469| -1.0241\n",
      "  200 |  0.2819|  1.2591|  0.6226|  0.1471| -1.0241\n",
      "  250 |  0.2817|  1.2589|  0.6225|  0.1474| -1.0241\n",
      "  300 |  0.2815|  1.2587|  0.6225|  0.1476| -1.0241\n",
      "  350 |  0.2813|  1.2586|  0.6224|  0.1479| -1.0241\n",
      "  400 |  0.2811|  1.2584|  0.6223|  0.1481| -1.0241\n",
      "  450 |  0.2809|  1.2582|  0.6223|  0.1484| -1.0241\n",
      "  500 |  0.2807|  1.2580|  0.6222|  0.1486| -1.0241\n",
      "  550 |  0.2805|  1.2578|  0.6221|  0.1489| -1.0242\n",
      "  600 |  0.2803|  1.2577|  0.6220|  0.1491| -1.0242\n",
      "  650 |  0.2801|  1.2575|  0.6220|  0.1493| -1.0242\n",
      "  700 |  0.2799|  1.2573|  0.6219|  0.1496| -1.0242\n",
      "  750 |  0.2797|  1.2571|  0.6218|  0.1498| -1.0242\n",
      "  800 |  0.2795|  1.2570|  0.6217|  0.1501| -1.0242\n",
      "  850 |  0.2793|  1.2568|  0.6217|  0.1503| -1.0242\n",
      "  900 |  0.2791|  1.2566|  0.6216|  0.1506| -1.0242\n",
      "  950 |  0.2790|  1.2564|  0.6215|  0.1508| -1.0242\n",
      " 1000 |  0.2788|  1.2563|  0.6214|  0.1511| -1.0243\n"
     ]
    }
   ],
   "source": [
    "learning_rate = 0.00001\n",
    "print(\"num   |  cost  |   w1   |   w2   |   w3   |   b \")\n",
    "#gradient를 tape에 기록하기 위해 \n",
    "for i in range(1000+1):\n",
    "    with tf.GradientTape() as tape: \n",
    "        hypothesis = w1 * x1 + w2 * x2 + w3 *x3 + b\n",
    "        cost = tf.reduce_mean(tf.square(hypothesis - Y))\n",
    "    w1_grad, w2_grad, w3_grad, b_grad = tape.gradient(cost, [w1, w2, w3, b])\n",
    "#update w1, w2, w3, and b\n",
    "    w1.assign_sub(learning_rate * w1_grad)\n",
    "    w2.assign_sub(learning_rate * w2_grad)\n",
    "    w3.assign_sub(learning_rate * w3_grad)\n",
    "    b.assign_sub(learning_rate * b_grad)  \n",
    "    if i % 50 == 0 :\n",
    "        print(\"{:5} | {:7.4f}| {:7.4f}| {:7.4f}| {:7.4f}| {:7.4f}\".format(i, cost.numpy(), w1.numpy()[0], w2.numpy()[0], w3.numpy()[0], b.numpy()[0]))\n",
    "                                                                                                                                    \n"
   ]
  },
  {
   "cell_type": "code",
   "execution_count": 38,
   "metadata": {},
   "outputs": [
    {
     "name": "stdout",
     "output_type": "stream",
     "text": [
      "[[ 73.  80.  75. 152.]\n",
      " [ 93.  88.  93. 185.]\n",
      " [ 89.  91.  90. 180.]\n",
      " [ 96.  98. 100. 196.]\n",
      " [ 73.  66.  70. 142.]]\n"
     ]
    }
   ],
   "source": [
    "# matrix로 표현하기  H(X) = XW\n",
    "\n",
    "import numpy as np\n",
    "data = np.array([\n",
    "    [73, 93, 89, 96, 73],\n",
    "    [80, 88, 91, 98, 66],\n",
    "    [75, 93, 90, 100, 70],\n",
    "    [152, 185, 180, 196, 142]\n",
    "], dtype = np.float32)\n",
    "data= np.transpose(data)\n",
    "print(data)"
   ]
  },
  {
   "cell_type": "code",
   "execution_count": 39,
   "metadata": {},
   "outputs": [
    {
     "name": "stdout",
     "output_type": "stream",
     "text": [
      "[[ 73.  80.  75.]\n",
      " [ 93.  88.  93.]\n",
      " [ 89.  91.  90.]\n",
      " [ 96.  98. 100.]\n",
      " [ 73.  66.  70.]]\n",
      "[[152.]\n",
      " [185.]\n",
      " [180.]\n",
      " [196.]\n",
      " [142.]]\n"
     ]
    }
   ],
   "source": [
    "X = data[:, :-1]\n",
    "y = data[:, [-1]]\n",
    "\n",
    "print(X)\n",
    "print(y)"
   ]
  },
  {
   "cell_type": "code",
   "execution_count": 49,
   "metadata": {},
   "outputs": [],
   "source": [
    "W = tf.Variable(tf.random.normal([3,1]))\n",
    "b = tf.Variable(tf.random.normal([1]))\n",
    "\n",
    "def predict(x):\n",
    "    return tf.matmul(X, W) + b  #matrix multiplication "
   ]
  },
  {
   "cell_type": "code",
   "execution_count": 50,
   "metadata": {},
   "outputs": [
    {
     "name": "stdout",
     "output_type": "stream",
     "text": [
      "    0 |  3996.5398\n",
      "  100 |     6.1232\n",
      "  200 |     5.8942\n",
      "  300 |     5.6768\n",
      "  400 |     5.4706\n",
      "  500 |     5.2748\n",
      "  600 |     5.0889\n",
      "  700 |     4.9124\n",
      "  800 |     4.7449\n",
      "  900 |     4.5858\n",
      " 1000 |     4.4347\n",
      " 1100 |     4.2912\n",
      " 1200 |     4.1548\n",
      " 1300 |     4.0253\n",
      " 1400 |     3.9022\n",
      " 1500 |     3.7853\n",
      " 1600 |     3.6741\n",
      " 1700 |     3.5684\n",
      " 1800 |     3.4679\n",
      " 1900 |     3.3723\n",
      " 2000 |     3.2814\n"
     ]
    }
   ],
   "source": [
    "learning_rate = 0.00001\n",
    "n_epochs = 2000\n",
    "for i in range(n_epochs + 1):\n",
    "    with tf.GradientTape() as tape:\n",
    "        cost = tf.reduce_mean((tf.square(predict(X)-y)))\n",
    "        \n",
    "    W_grad, b_grad = tape.gradient(cost, [W, b])\n",
    "    \n",
    "    W.assign_sub(learning_rate * W_grad)\n",
    "    b.assign_sub(learning_rate * b_grad)\n",
    "    \n",
    "    if i % 100 == 0:\n",
    "        print(\"{:5} | {:10.4f}\".format(i, cost.numpy()))\n",
    "    "
   ]
  },
  {
   "cell_type": "code",
   "execution_count": null,
   "metadata": {},
   "outputs": [],
   "source": []
  }
 ],
 "metadata": {
  "kernelspec": {
   "display_name": "Python 3",
   "language": "python",
   "name": "python3"
  },
  "language_info": {
   "codemirror_mode": {
    "name": "ipython",
    "version": 3
   },
   "file_extension": ".py",
   "mimetype": "text/x-python",
   "name": "python",
   "nbconvert_exporter": "python",
   "pygments_lexer": "ipython3",
   "version": "3.6.10"
  }
 },
 "nbformat": 4,
 "nbformat_minor": 4
}
