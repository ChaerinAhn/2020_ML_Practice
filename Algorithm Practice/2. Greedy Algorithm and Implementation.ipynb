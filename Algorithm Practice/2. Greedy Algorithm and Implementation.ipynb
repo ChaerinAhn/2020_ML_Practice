{
 "cells": [
  {
   "cell_type": "markdown",
   "metadata": {},
   "source": [
    "# 1. 그리디 알고리즘이란?\n",
    "\n",
    "    * 현재 상황에서 최적의 값을 구하는 것 (최적의 해)  \n",
    "    * 전체로 봤을 때는 최적이 아닐수도 있지만 현재 위치에서 가장 최적으로\n",
    "    "
   ]
  },
  {
   "cell_type": "code",
   "execution_count": 1,
   "metadata": {},
   "outputs": [
    {
     "name": "stdout",
     "output_type": "stream",
     "text": [
      "6\n"
     ]
    }
   ],
   "source": [
    "# 거스름돈 문제\n",
    "n= 1260\n",
    "count = 0\n",
    "\n",
    "# 큰 단위 화폐부터 차례로 확인\n",
    "array =[500, 100, 50, 10]\n",
    "\n",
    "for coin in array:\n",
    "    count += n // coin # 해당 화폐로 거슬러줄 수 있는 동전 개수\n",
    "    n %= coin \n",
    "    \n",
    "print(count)\n",
    "\n",
    "# 화폐의 종류만큼 for문이 시행되므로 O(화폐종류) 만큼 시간 복잡도\n"
   ]
  },
  {
   "cell_type": "code",
   "execution_count": 2,
   "metadata": {},
   "outputs": [
    {
     "name": "stdout",
     "output_type": "stream",
     "text": [
      "10 2\n",
      "4\n"
     ]
    }
   ],
   "source": [
    "# 1이 될 때까지의 문제 \n",
    "# 어떤 수 N을 1로 빼거나 N을 K로 나누는 걸 반복 (K로 나눌 때는 나눠 떨어질때만)\n",
    "# 1이 될때까지 시행의 최소 횟수\n",
    "\n",
    "# N이 아무리 큰수라도 2이상인 K로 나누는 것이 1을 빼는 것보다 빠르게 N을 줄일 수 있음\n",
    "\n",
    "n, k = map(int, input().split())\n",
    "\n",
    "result = 0  # 시행횟수\n",
    "\n",
    "while True:\n",
    "    target = (n//k)*k # 가장 가까운 k로 나눠떨어지는 수 \n",
    "    result += (n - target) #1을 빼는 연산을 몇번 수행할지\n",
    "    n = target # n이 k보다 작을 때 (더이상 나눌 수 없을 때) 반복문 탈출\n",
    "    if n < k:\n",
    "        break \n",
    "    result += 1 #k로 나누기\n",
    "    n //= k\n",
    "    \n",
    "#마지막으로 남은 수에 대하여 1씩 빼기\n",
    "result += (n - 1)\n",
    "print( result)\n",
    "\n"
   ]
  },
  {
   "cell_type": "code",
   "execution_count": 3,
   "metadata": {},
   "outputs": [
    {
     "name": "stdout",
     "output_type": "stream",
     "text": [
      "20501\n",
      "11\n"
     ]
    }
   ],
   "source": [
    "# 곱하기 혹은 더하기 문제 (문자열 수 차례로 앞에서부터 + 혹은 x 연산으로 가장큰수 만들기)\n",
    "\n",
    "# 정답: 0 또는 1인 경우는 더하고 나머지에는 곱하기\n",
    "\n",
    "data = input()\n",
    "\n",
    "#첫번째 문자를 숫자로 변경하여 대입\n",
    "result =int(data[0])\n",
    "\n",
    "for i in range(1, len(data)):\n",
    "    num = int(data[i])\n",
    "    if num <= 1 or result <= 1:\n",
    "        result += num\n",
    "    else:\n",
    "        result *= num \n",
    "        \n",
    "print(result)"
   ]
  },
  {
   "cell_type": "code",
   "execution_count": 4,
   "metadata": {},
   "outputs": [
    {
     "name": "stdout",
     "output_type": "stream",
     "text": [
      "2 5 5 2 1\n",
      "2\n"
     ]
    }
   ],
   "source": [
    "# 모험가 길드 \n",
    "# 공포도가 X인 모험가는 반드시 X명 이상 구성한 그룹에 참여해야함\n",
    "# 여행 떠날 수 있는 그룹수의 최댓값 구하기  (꼭 다 포함될 필요 없음)\n",
    "# 오름차순 정렬하여 가장 공포도 낮은 사람부터\n",
    "\n",
    "data = list(map(int, input().split()))\n",
    "data.sort()\n",
    "\n",
    "result =0\n",
    "count =0 # 현재 그룹에 모험가 수\n",
    "\n",
    "for i in data:\n",
    "    count += 1\n",
    "    if count >= i:\n",
    "        result += 1\n",
    "        count = 0 \n",
    "        \n",
    "print(result)"
   ]
  },
  {
   "cell_type": "markdown",
   "metadata": {},
   "source": [
    "# 2. Implementation\n",
    "\n",
    "    * 머릿속에 있는 알고리즘을 소스코드로 바꾸는 과정\n",
    "    * 풀이를 떠올리기 쉽지만 소스코드로 옮기기 어려운 문제 \n",
    "    * 행렬 이용도 많이 함 (2차원으로 표현)\n",
    "    * 행렬 방향 백터: 동, 북, 서, 남 \n",
    "\n",
    "## - x축 방향 (위 아래), y축 방향 (오른쪽 왼쪽) \n",
    "dx = [0, -1, 0, 1]  dy = [1, 0, -1, 0] "
   ]
  },
  {
   "cell_type": "code",
   "execution_count": 7,
   "metadata": {},
   "outputs": [
    {
     "name": "stdout",
     "output_type": "stream",
     "text": [
      "10\n",
      "R L U U\n",
      "1 1\n"
     ]
    }
   ],
   "source": [
    "# 상하좌우 문제\n",
    "\n",
    "# 여행자 A는 N x N 정사각형 공간에 있음. 가장 왼쪽 위 좌표는 (1,1)\n",
    "# 계획서에 여행자가 움직이는 방향이 쓰여있음. L, R, U, D \n",
    "# 공간을 벗어나는 움직임은 무시 \n",
    "n = int(input())\n",
    "x, y = 1, 1\n",
    "plans = input().split()\n",
    "\n",
    "# L, R, U, D\n",
    "dx = [0, 0, -1, 1]\n",
    "dy = [-1, 1, 0, 0]\n",
    "move_types = ['L', 'R', 'U', 'D']\n",
    "\n",
    "for plan in plans:\n",
    "    for i in range(len(move_types)):\n",
    "        if plan == move_types[i]:\n",
    "            nx = x + dx[i]\n",
    "            ny = y + dy[i]\n",
    "    if nx < 1 or ny < 1 or nx >n or ny > n:\n",
    "        continue \n",
    "    x, y = nx, ny \n",
    "    \n",
    "print(x, y)"
   ]
  },
  {
   "cell_type": "code",
   "execution_count": 8,
   "metadata": {},
   "outputs": [
    {
     "name": "stdout",
     "output_type": "stream",
     "text": [
      "11\n",
      "20925\n",
      "0.014963150024414062\n"
     ]
    }
   ],
   "source": [
    "# 시각: 정수 N이 입력되면 00시 00분 00초부터 N시 59분 59초까지의 모든 시각중에서 3이 하나라도 포함\n",
    "\n",
    "import time\n",
    "\n",
    "N=int(input())\n",
    "\n",
    "start = time.time()\n",
    "result = 0\n",
    "\n",
    "\n",
    "for i in range(0, N+1):\n",
    "    if i % 10 == 3:\n",
    "        result+= 3600\n",
    "    else:\n",
    "        \n",
    "        for j in range (0, 60):\n",
    "            if j % 10 == 3 or 30<=j<40: \n",
    "                result += 60\n",
    "            else:\n",
    "                \n",
    "                for k in range (0, 60):\n",
    "                    if k % 10 == 3 or 30<= k<40:\n",
    "                        result += 1\n",
    "print(result)\n",
    "\n",
    "print(time.time() - start)"
   ]
  },
  {
   "cell_type": "code",
   "execution_count": 9,
   "metadata": {},
   "outputs": [
    {
     "name": "stdout",
     "output_type": "stream",
     "text": [
      "c4\n",
      "8\n",
      "0.0019931793212890625\n"
     ]
    }
   ],
   "source": [
    "\n",
    "import time\n",
    "\n",
    "# 나이트 L자 모양 이동하기\n",
    "N=input()\n",
    "\n",
    "start = time.time()\n",
    "result = 0\n",
    "result1 = 0\n",
    "result2 = 0\n",
    "# 인풋값을 둘 다 정수로 변환\n",
    "dicvalue = {'a': 1, 'b': 2, 'c':3, 'd':4, 'e':5, 'f':6, 'g':7, 'h': 8}\n",
    "\n",
    "x=int(dicvalue[str(N[0])])\n",
    "y=int(N[1])\n",
    "\n",
    "xmove1 = [1, -1]\n",
    "xmove2 = [2, -2]\n",
    "ymove1 = [1, -1]\n",
    "ymove2 = [2, -2]\n",
    "\n",
    "for i in xmove1:\n",
    "    for j in ymove2:\n",
    "        nx = x + i\n",
    "        ny = y + j\n",
    "        if nx <1 or nx>8 or ny <1 or ny>8:\n",
    "            result1 += 0\n",
    "        else: result1 += 1 \n",
    "        \n",
    "for i in xmove2:\n",
    "    for j in ymove1:\n",
    "        nx = x + i\n",
    "        ny = y + j\n",
    "        if nx <1 or nx>8 or ny <1 or ny>8:\n",
    "            result1 += 0\n",
    "        else: result2 += 1     \n",
    "\n",
    "result = result1 +result2 \n",
    "\n",
    "print(result)\n",
    "\n",
    "print(time.time() - start)"
   ]
  },
  {
   "cell_type": "code",
   "execution_count": 10,
   "metadata": {},
   "outputs": [
    {
     "name": "stdout",
     "output_type": "stream",
     "text": [
      "K2LDL2DK2\n",
      "DDKKLL6\n"
     ]
    }
   ],
   "source": [
    "# 문자열 재정렬 문제\n",
    "\n",
    "N= str(input())\n",
    "\n",
    "length = len(N)\n",
    "albag = list()\n",
    "numbag = list()\n",
    "alp = ('A', 'B', 'C', 'D', 'E', 'F', 'G', 'H', 'I', 'J', 'K', 'L', 'M', 'N', 'O', 'P', 'Q', 'R', 'S', 'T', 'U', 'V', 'W', 'X', 'Y', 'Z')\n",
    "\n",
    "for i in range(length):\n",
    "    if N[i] in alp:\n",
    "        albag.append(N[i])\n",
    "    else: numbag.append(N[i]) \n",
    "\n",
    "\n",
    "sortalp = sorted(albag)\n",
    "intnum =list(map(int,numbag))\n",
    "sumnum= sum(intnum)\n",
    "\n",
    "connectalp =''\n",
    "for i in range(len(sortalp)):\n",
    "    connectalp += sortalp[i]\n",
    "\n",
    "# ''.join(sortalp) 하면 더 쉽게 가능 \n",
    "# print(''.join(sortalp))\n",
    "\n",
    "result = connectalp + str(sumnum)\n",
    "print(result)"
   ]
  }
 ],
 "metadata": {
  "kernelspec": {
   "display_name": "Python 3",
   "language": "python",
   "name": "python3"
  },
  "language_info": {
   "codemirror_mode": {
    "name": "ipython",
    "version": 3
   },
   "file_extension": ".py",
   "mimetype": "text/x-python",
   "name": "python",
   "nbconvert_exporter": "python",
   "pygments_lexer": "ipython3",
   "version": "3.6.10"
  }
 },
 "nbformat": 4,
 "nbformat_minor": 4
}
