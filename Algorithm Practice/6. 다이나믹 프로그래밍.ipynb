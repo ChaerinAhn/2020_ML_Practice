{
 "cells": [
  {
   "cell_type": "markdown",
   "metadata": {},
   "source": [
    "# 1. 다이나믹 프로그래밍\n",
    "\n",
    "    * 메모리를 적절히 사용하여 수행 시간 효율성을 비약적으로 향상시키는 방법\n",
    "    * 이미 계산된 결과는 별도의 메모리 영역에 저장 \n",
    "    * 탑다운, 보텀업 방식으로 구성\n",
    "    * 동적 계획법이라고도 부름. \n",
    "    * 1. 최적 부분 구조: 큰 문제를 작은 문제로 나눌 수 있으며 이 작은문제 답을 모아서 큰문제 해결\n",
    "    * 2. 중복되는 부분문제: 동일한 작은 문제를 반복적으로 해결\n",
    "    * ex) 피보나치 수열 점화식 "
   ]
  },
  {
   "cell_type": "code",
   "execution_count": 2,
   "metadata": {},
   "outputs": [
    {
     "name": "stdout",
     "output_type": "stream",
     "text": [
      "55\n"
     ]
    }
   ],
   "source": [
    "# 피보나치 단순 재귀코드 \n",
    "\n",
    "def fibo(x):\n",
    "    if x==1 or x==2:\n",
    "        return 1\n",
    "    return fibo(x-1) + fibo(x-2)\n",
    "print(fibo(10))\n",
    "\n",
    "# 이방법을 사용하면 동일한 부분문제가 반복되어 지수시간 복잡도를 가지게 됨\n",
    "# 예를 들어 위 식에서 f(2) 는 매우 많이 반복 \n"
   ]
  },
  {
   "cell_type": "markdown",
   "metadata": {},
   "source": [
    "# 2. 메모이제이션\n",
    "    * 한번 계산된 결과를 메모리 공간에 메모하는 방법\n",
    "    * 캐싱이라고 부르기도 함 (Cashing)\n",
    "    * e다이나믹 프로그램의 전형적인 형태는 보텀업 방식 \n",
    "    * 결과 저장용 리스트는 DP 테이블"
   ]
  },
  {
   "cell_type": "code",
   "execution_count": 5,
   "metadata": {},
   "outputs": [
    {
     "name": "stdout",
     "output_type": "stream",
     "text": [
      "218922995834555169026\n"
     ]
    }
   ],
   "source": [
    "# 피보나치 수열: 탑다운 다이나믹 프로그래밍 소스코드 \n",
    "\n",
    "# 한번 계산된 결과를 메모이제이션 하기 위한 리스트 초기화\n",
    "\n",
    "d = [0]*100\n",
    "\n",
    "# 피보나치 함수를 재귀함수로 구현 (탑 다운 다이나믹 프로그래밍)\n",
    "\n",
    "def fibo(x):\n",
    "    # 종료조건 (1 혹은 2일 때 1을 반환)\n",
    "    if x == 1 or x == 2:\n",
    "        return 1 \n",
    "    # 이미 계산한 적 있는 문제라면 그대로 반환\n",
    "    if d[x] != 0:\n",
    "        return d[x]\n",
    "    # 아직 계산하지 않은 문제라면 점화식에 따라서 피보나치 결과 반환\n",
    "    d[x] = fibo(x - 1)+ fibo(x - 2)\n",
    "    return d[x]\n",
    "\n",
    "print(fibo(99))"
   ]
  },
  {
   "cell_type": "code",
   "execution_count": 6,
   "metadata": {},
   "outputs": [
    {
     "name": "stdout",
     "output_type": "stream",
     "text": [
      "218922995834555169026\n"
     ]
    }
   ],
   "source": [
    "# 피보나치 수열: 보텀업 다이나믹 프로그래밍 소스코드 \n",
    "\n",
    "d = [0]*100\n",
    "\n",
    "# 첫 번째 두 번째 피보나치 수는 1\n",
    "d[1] = 1\n",
    "d[2] = 1\n",
    "n = 99\n",
    "\n",
    "# 피보나치 함수 반복문으로 구현 \n",
    "for i in range(3, n+1):\n",
    "    d[i] = d[i - 1] + d[i -2]\n",
    "\n",
    "print(d[n])\n",
    "\n",
    "# 시간복잡도는 O(N) 이 된다 "
   ]
  },
  {
   "cell_type": "markdown",
   "metadata": {},
   "source": [
    "## 분할 정복 문제에서는 동일한 부분 문제가 반복되지 않는다는게 다이나믹과의 차이점\n",
    "\n",
    "## 예시 -퀵정렬: 한 번 피벗이 자리를 변경해서 자리잡으면 다시 위치를 바꾸지 않는다. \n"
   ]
  },
  {
   "cell_type": "code",
   "execution_count": 7,
   "metadata": {},
   "outputs": [
    {
     "name": "stdout",
     "output_type": "stream",
     "text": [
      "5\n",
      "2 4 1 2 5\n",
      "9\n"
     ]
    }
   ],
   "source": [
    "# 개미 전사 문제\n",
    "\n",
    "# ai = i 번째 식량창고까지의 최적의 해 (식량 최댓값)\n",
    "# ki = i 번째 식량창고에 있는 식량의 양\n",
    "\n",
    "# i번째 식량창고 털지 말지에 따라 달라짐\n",
    "# 현재 식량창고 털면 i-2의 최댓값 + 현재 식량 창고\n",
    "# 현재 식량창고 안털면 i-1까지의 최댓값\n",
    "# ai = max(ai-1, ai-2 + ki)\n",
    "\n",
    "n= int(input())\n",
    "array = list(map(int, input().split()))\n",
    "\n",
    "d = [0]*100\n",
    "d[0] = array[0]\n",
    "d[1] = max(array[0], array[1])\n",
    "for i in range(2, n):\n",
    "    d[i] = max(d[i -1], d[i -2]+ array[i])\n",
    "\n",
    "print(d[n-1])"
   ]
  },
  {
   "cell_type": "code",
   "execution_count": 21,
   "metadata": {},
   "outputs": [
    {
     "name": "stdout",
     "output_type": "stream",
     "text": [
      "30000\n",
      "8\n"
     ]
    }
   ],
   "source": [
    "# 정수를 1로 만들기 \n",
    "\n",
    "x = int(input())\n",
    "\n",
    "d= [0] * 30001\n",
    "\n",
    "d[0] = 30000\n",
    "d[1] = 0\n",
    "d[2] = 1\n",
    "for i in range (3, x + 1):\n",
    "    temp = [0] * 4\n",
    "    if i % 5 == 0:\n",
    "        temp[0] = (i // 5)\n",
    "    if i % 3 == 0:\n",
    "        temp[1] = (i // 3)\n",
    "    if i % 2 == 0:\n",
    "        temp[2] = (i // 2)\n",
    "    temp[3]= (i - 1)\n",
    "    d[i] = min(d[temp[0]], d[temp[1]], d[temp[2]], d[temp[3]]) + 1 \n",
    "    \n",
    "print(d[x])\n",
    "    "
   ]
  },
  {
   "cell_type": "code",
   "execution_count": 93,
   "metadata": {},
   "outputs": [
    {
     "name": "stdout",
     "output_type": "stream",
     "text": [
      "2\n"
     ]
    }
   ],
   "source": [
    "# 효율적인 화폐구성 \n",
    "\n",
    "# n, m = map(int, input().split())\n",
    "# array = list(map(int, input().split()))\n",
    "n = 5\n",
    "m = 11\n",
    "array = [3, 5, 8, 9, 12]\n",
    "array.sort()\n",
    "from bisect import bisect_left, bisect_right\n",
    "\n",
    "\n",
    "d = [0]* 10001\n",
    "\n",
    "for i in range(1, min(array)):\n",
    "    d[i] = -1 \n",
    "\n",
    "for i in range(min(array), m+1):\n",
    "    oneminus = list(d[i -array[j]] for j in range(bisect_right(array, i)))\n",
    "    if set(oneminus) == {-1}:\n",
    "        d[i] = -1\n",
    "    elif -1 in oneminus:\n",
    "        oneminus = list(set(oneminus))\n",
    "        oneminus.remove(-1)\n",
    "        d[i] = min(oneminus) + 1\n",
    "    else: d[i] = min(oneminus) + 1\n",
    "        \n",
    "print(d[m])"
   ]
  },
  {
   "cell_type": "code",
   "execution_count": 135,
   "metadata": {},
   "outputs": [],
   "source": [
    "# 금광 채굴 문제 실패\n",
    "\n",
    "# t = int(input())\n",
    "# n, m = map(int, input().split())\n",
    "# array = list(map(int, input().split()))\n",
    "\n",
    "# t = 2\n",
    "# n = 3 \n",
    "# m = 4\n",
    "# array = [1, 3, 3, 2, 2, 1, 4, 1, 0, 6, 4, 7]\n",
    "# newarray= list()\n",
    "# matarray= list()\n",
    "# for i in range(n):\n",
    "#     for j in range(1, m+1):\n",
    "#         newarray.append(array[i * m + j - 1])\n",
    "#     matarray.append(newarray)\n",
    "#     newarray = list()\n",
    "# print(matarray)    \n",
    "    \n",
    "# import numpy as np\n",
    "\n",
    "# h = np.array(matarray)\n",
    "# print(h)\n",
    "# testindex= list(h[:,0]).index(t)\n",
    "# print(testindex)\n",
    "\n",
    "# d = [0]* (n*m + 1)\n",
    "\n",
    "# for i in range(n):\n",
    "#     d[(i+1)*m] = h[i][m-1]\n",
    "# print(d)\n",
    " \n",
    "# def loop(a, b):\n",
    "#     list1=list()\n",
    "#     for i in (a -1, a +2):\n",
    "#         if i<0 or i>=n:\n",
    "#             list1.append(0)\n",
    "#         else:\n",
    "#             list1.append(loop(i, b+1))\n",
    "#     d[a*m + b+1] = max(list1) + h[a][b]\n",
    "#     return d[a*m + b+1]\n",
    "    \n",
    "# loop(testindex, 0)        "
   ]
  },
  {
   "cell_type": "code",
   "execution_count": 136,
   "metadata": {},
   "outputs": [
    {
     "name": "stdout",
     "output_type": "stream",
     "text": [
      "gold:\n",
      " [[1 3 3 2]\n",
      " [2 1 4 1]\n",
      " [0 6 4 7]]\n",
      "[[1. 0. 0. 0.]\n",
      " [2. 0. 0. 0.]\n",
      " [0. 0. 0. 0.]]\n",
      "[[ 1.  5.  8. 14.]\n",
      " [ 2.  3. 12. 13.]\n",
      " [ 0.  8. 12. 19.]]\n",
      "19\n"
     ]
    }
   ],
   "source": [
    "#  금광문제 정답 나오는 풀이 \n",
    "import numpy as np\n",
    "T = 2 # 시\n",
    "n = 3 # 행\n",
    "m = 4 # 열\n",
    "\n",
    "gold_M = np.array([[1, 3, 3, 2], [2, 1, 4, 1], [0, 6, 4, 7]])\n",
    "print('gold:\\n', gold_M)\n",
    "\n",
    "sum_M = np.zeros([n, m])\n",
    "\n",
    "# Initialize the first column\n",
    "sum_M[:, 0] = [1, 2, 0]\n",
    "print(sum_M)\n",
    "for j in range(1, m):\n",
    "    for i in range(n):\n",
    "        left = sum_M[i][j - 1]\n",
    "        if i - 1 >= 0:\n",
    "            left_up = sum_M[i - 1][j - 1]\n",
    "        else:\n",
    "            left_up = 0\n",
    "        if i + 1 < n:\n",
    "            left_down = sum_M[i + 1][j - 1]\n",
    "        else:\n",
    "            left_down = 0\n",
    "        # print(i, j, left, left_up, left_down)\n",
    "        sum_M[i][j] = gold_M[i][j] + max(left, left_up, left_down)\n",
    "\n",
    "\n",
    "print(sum_M)\n",
    "print(int(max(sum_M[:, -1])))"
   ]
  },
  {
   "cell_type": "code",
   "execution_count": null,
   "metadata": {},
   "outputs": [],
   "source": [
    "# 병사 배치하기 문제 "
   ]
  }
 ],
 "metadata": {
  "kernelspec": {
   "display_name": "Python 3",
   "language": "python",
   "name": "python3"
  },
  "language_info": {
   "codemirror_mode": {
    "name": "ipython",
    "version": 3
   },
   "file_extension": ".py",
   "mimetype": "text/x-python",
   "name": "python",
   "nbconvert_exporter": "python",
   "pygments_lexer": "ipython3",
   "version": "3.6.10"
  }
 },
 "nbformat": 4,
 "nbformat_minor": 4
}
