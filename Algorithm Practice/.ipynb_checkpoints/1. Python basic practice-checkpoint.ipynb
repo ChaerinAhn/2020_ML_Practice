{
 "cells": [
  {
   "cell_type": "markdown",
   "metadata": {},
   "source": [
    "# 1. 알고리즘 복잡도 (낮을수록 더 좋음)\n",
    "\n",
    "## - 알고리즘 성능 평가 (시행 / 공간 복잡도)\n",
    "\n",
    "## - 빅오 표기법 \n",
    "    *가장 빠르게 증가하는 항만을 고려\n",
    "    *ex) 3N^3 + 5N^2 =100000 이면 3N^3만 남기고 O(N^3) \n",
    "    *극한의 개념으로 생각. 3이나 나머지 값들도 크게 영향이 없음 \n",
    "    *O(1) 상수시간, O(logN) 로그시간, O(N) 선형시간 --- > 이렇게 갈수록 복잡\n",
    "    *ex) 단순 for문에서 5개 데이터를 더하면 O(N)인데 이중for문으로 i*j 합을 구하면 O(N^2)\n",
    "\n",
    "    * 연산횟수 5억 넘어가면 파이썬은 보통 5-15초, 일반적인 코딩테스트 시간제한은 1~5초 \n",
    "\n"
   ]
  },
  {
   "cell_type": "markdown",
   "metadata": {},
   "source": [
    "## 2. 자료형\n",
    "\n",
    "    * e나 E 다음에 오는 수는 10의 지수부를 의미. 임의의 큰수를 표현하기 위해서도 자주 사용됨\n",
    "    * 이렇게 e를 사용해 지수표현을 하면 실수형 데이터로 인식. \n",
    "    * 실수형 데이터를 정수형으로 바꾸려면 int(2e10)으로 \n",
    "    * 컴퓨터 시스템은 실수 정보를 표현하는 정확도에 한계를 가짐\n",
    "    * 실수값을 제대로 비교하지 못할 수 있음 0.3+0.6 결과를 0.9와 같다고 인식 못할수도\n",
    "    * 이럴 때 round() g함수를 이용 "
   ]
  },
  {
   "cell_type": "code",
   "execution_count": null,
   "metadata": {},
   "outputs": [],
   "source": [
    "## List 자료형\n",
    "## index값을 입력. 0부터 시작함. indexing. 음의 정수를 넣으면 원소를 거꾸로 탐색. -1부터 \n",
    "## 연속적인 원소들을 가져와야 할때는 슬라이싱 사용 ':' 시작&끝 인덱스. 끝 인덱스는 +1 한 값을 넣어주기 \n",
    "\n",
    "a = [1, 2, 3, 4, 5, 6, 7, 8, 9, 10]\n",
    "# 2~4번째까지 얻고 싶을 때  \n",
    "print(a[1:4])\n",
    "\n",
    "## 리스트 컴프리헨션 -> 대괄호 안에 조건문 반복문을 적용해 리스트 초기화\n",
    "\n",
    "array = [ i for i in range(10)]\n",
    "# i가 들어가서 0~9까지 값들을 리스트의 원소로 나오게\n",
    "print(array)\n",
    "\n",
    "array2 = [ i*i for i in range(1,10)]\n",
    "print(array2)\n"
   ]
  },
  {
   "cell_type": "code",
   "execution_count": 11,
   "metadata": {},
   "outputs": [
    {
     "name": "stdout",
     "output_type": "stream",
     "text": [
      "[[0, 0, 0], [0, 0, 0], [0, 0, 0], [0, 0, 0]]\n"
     ]
    }
   ],
   "source": [
    "# N*M 크기의 2차원 리스트를 초기화할 때 유용 \n",
    "# array = [[0] * m for _in range(n)]\n",
    "\n",
    "n = 4\n",
    "m = 3\n",
    "array = [[0]*m for _ in range(n)]\n",
    "print(array)\n"
   ]
  },
  {
   "cell_type": "code",
   "execution_count": 17,
   "metadata": {},
   "outputs": [
    {
     "name": "stdout",
     "output_type": "stream",
     "text": [
      "[1, 4, 5, 3]\n",
      "[3, 5, 4, 1]\n",
      "[5, 4, 1]\n",
      "[1, 4, 5, 5, 5]\n"
     ]
    }
   ],
   "source": [
    "# 리스트 관련 기타 메서드\n",
    "\n",
    "a = [1, 4, 3]\n",
    "a.insert(2,5)\n",
    "print(a)\n",
    "\n",
    "a.reverse()\n",
    "print(a)\n",
    "\n",
    "a.remove(3)\n",
    "print(a)\n",
    "\n",
    "#여러개 특정값을 제거하려 하면 \n",
    "\n",
    "a=[1, 2,3,4,5,5,5]\n",
    "remove_set = {2, 3}    # 집합자료형\n",
    "\n",
    "result = [i for i in a if i not in remove_set]\n",
    "print(result)"
   ]
  },
  {
   "cell_type": "code",
   "execution_count": 22,
   "metadata": {},
   "outputs": [
    {
     "name": "stdout",
     "output_type": "stream",
     "text": [
      "Hello World\n",
      "Don't you know \"python\"?\n",
      "CD\n"
     ]
    }
   ],
   "source": [
    "# 문자열 자료형 \n",
    "\n",
    "a = \"Hello World\"\n",
    "print(a)\n",
    "a = \"Don't you know \\\"python\\\"?\"\n",
    "print(a)\n",
    "\n",
    "# 문자열 변수에 덧셈을 이용하면 연결됨 \n",
    "a = \"ABCDEF\"\n",
    "print(a[2:4])\n",
    "# 문자열 중간을 바꿀 수 없음 "
   ]
  },
  {
   "cell_type": "code",
   "execution_count": 23,
   "metadata": {},
   "outputs": [],
   "source": [
    "# 튜플 자료형\n",
    "\n",
    "#리시트와 유사하지만 한번 선언된 값을 변경할 수 없음\n",
    "#소괄호 이용. 상대적으로 공간 효율적\n",
    "\n",
    "# 장점: 서로 다른 성질의 데이터를 묶어서 관리. ex) 성적, 학번 이런 정보 같이\n",
    "# 데이터의 나열을 해싱의 키값으로 사용해야 할 때\n",
    "# 메모리를 더 효율적으로 사용해야 할 때 "
   ]
  },
  {
   "cell_type": "code",
   "execution_count": 24,
   "metadata": {},
   "outputs": [
    {
     "name": "stdout",
     "output_type": "stream",
     "text": [
      "{'사과': 'Apple'}\n",
      "'사과'를 키로 가지는 데이터가 존재\n"
     ]
    }
   ],
   "source": [
    "# 사전 자료형\n",
    "\n",
    "# 키와 값의 쌍을 데이터로 가지는 자료형 \n",
    "# 원하는 변경불가능한 자료형을 키로 사용할 수 있음\n",
    "\n",
    "data = dict()\n",
    "\n",
    "# 키값 먼저 넣고 그담에 value\n",
    "data['사과'] ='Apple'\n",
    "\n",
    "print(data)\n",
    "if '사과' in data:\n",
    "    print(\"'사과'를 키로 가지는 데이터가 존재\")\n",
    "    "
   ]
  },
  {
   "cell_type": "code",
   "execution_count": 26,
   "metadata": {},
   "outputs": [
    {
     "name": "stdout",
     "output_type": "stream",
     "text": [
      "dict_keys(['사과'])\n",
      "['사과']\n"
     ]
    }
   ],
   "source": [
    "# 키와 값을 각각 따로 뽑을 수 있음\n",
    "\n",
    "key_list = data.keys()\n",
    "value_list = data.values()\n",
    "print(key_list)\n",
    "print(list(key_list)) # list 형태로 뽑을 수 있음"
   ]
  },
  {
   "cell_type": "code",
   "execution_count": 28,
   "metadata": {},
   "outputs": [
    {
     "name": "stdout",
     "output_type": "stream",
     "text": [
      "{1, 2, 3, 4, 5}\n",
      "{1, 2, 3, 4, 5, 6}\n",
      "{3, 4}\n",
      "{1, 2}\n"
     ]
    }
   ],
   "source": [
    "# 집합 자료형 \n",
    "\n",
    "# 중복을 허용하지 않고 순서가 없음. set() 함수를 이용하거나\n",
    "# 중괄호 {}안에 각 원소를 넣어서 함 \n",
    "# 사전 자료형과 집합 자료형은 순서가 없음 \n",
    "# 데이터 조회 및 수정에 있어서 O(1) 시간 처리 \n",
    "# 합집합, 교집합, 차집합 연산 등이 가능함\n",
    "data = set([1, 2, 3, 4, 4, 5])\n",
    "print(data)\n",
    "\n",
    "# 합집합\n",
    "a = set([1,2,3,4])\n",
    "b = set([3,4,5,6])\n",
    "print(a|b) #합집합\n",
    "print(a&b) #교집합\n",
    "print(a-b) #차집합 \n"
   ]
  },
  {
   "cell_type": "code",
   "execution_count": 29,
   "metadata": {},
   "outputs": [
    {
     "name": "stdout",
     "output_type": "stream",
     "text": [
      "{1, 2, 3, 4}\n",
      "{1, 2, 3, 4, 5, 6}\n"
     ]
    }
   ],
   "source": [
    "a.add(4)\n",
    "print(a)\n",
    "a.update([5,6])\n",
    "print(a)"
   ]
  },
  {
   "cell_type": "markdown",
   "metadata": {},
   "source": [
    "# 3. 기본 입출력 양식\n",
    "\n",
    "## - 프로그램 동작의 첫단계는 데이터를 입력받거나 생성\n",
    "\n",
    "    * input() : 한 줄의 문자열을 입력 받는 함수\n",
    "    * map() : 리스트의 모든 원소에 각각 특정한 함수를 적용할 때 사용\n",
    "\n",
    "ex) 공백을 기준으로 구분된 데이터 입력을 받을 때 \n",
    "list(map(int, input().split()))\n",
    "\n",
    "ex) 공백을 기준으로 구분된 데이터 개수가 많지 않을 때\n",
    "a, b, c = map(int, input().split())"
   ]
  },
  {
   "cell_type": "code",
   "execution_count": 33,
   "metadata": {},
   "outputs": [
    {
     "name": "stdout",
     "output_type": "stream",
     "text": [
      "4\n",
      "4\n"
     ]
    }
   ],
   "source": [
    "n = int(input())\n",
    "print(n)\n"
   ]
  },
  {
   "cell_type": "code",
   "execution_count": 34,
   "metadata": {},
   "outputs": [
    {
     "name": "stdout",
     "output_type": "stream",
     "text": [
      "1 2 3 \n",
      "[1, 2, 3]\n"
     ]
    }
   ],
   "source": [
    "data = list(map(int, input().split()))  #split을 기준으로 나눈걸 정수형태 리스트로 \n",
    "print(data)"
   ]
  },
  {
   "cell_type": "code",
   "execution_count": 35,
   "metadata": {},
   "outputs": [
    {
     "name": "stdout",
     "output_type": "stream",
     "text": [
      "\n"
     ]
    }
   ],
   "source": [
    "# 빠른 입력 받기, 엔터 후 줄바꿈 기호로 입력되니까 rstrip 사용\n",
    "\n",
    "import sys\n",
    "data = sys.stdin.readline().rstrip()\n",
    "print(data)"
   ]
  },
  {
   "cell_type": "code",
   "execution_count": 36,
   "metadata": {},
   "outputs": [
    {
     "name": "stdout",
     "output_type": "stream",
     "text": [
      "7 8 "
     ]
    }
   ],
   "source": [
    "# 기본적으로 print 한 후에 줄바꿈이 되는데 웒지 않을 땐 end =\" \" 넣기\n",
    "\n",
    "print(7, end= \" \")\n",
    "print(8, end= \" \")"
   ]
  },
  {
   "cell_type": "code",
   "execution_count": 37,
   "metadata": {},
   "outputs": [
    {
     "name": "stdout",
     "output_type": "stream",
     "text": [
      "정답은 7입니다.\n"
     ]
    }
   ],
   "source": [
    "# f-string 예제 . 중괄호 안에 변수명을 기입하여 간단히 문자열과 정수를 함께 넣을 수 있음\n",
    "\n",
    "answer = 7\n",
    "print(f\"정답은 {answer}입니다.\")\n"
   ]
  },
  {
   "cell_type": "markdown",
   "metadata": {},
   "source": [
    "# 4. 조건문\n",
    "\n",
    "     * if ~ elif~ else \n",
    "\n",
    "```\n",
    "a = 5\n",
    "if a >= 0:\n",
    "    print(\"yes\")\n",
    "elif a >= -10:\n",
    "    print(\"no\")\n",
    "else print(\"hey\")\n",
    "```\n",
    "\n",
    "     * 파이썬 참 거짓\n",
    "\n",
    "     * x in 리스트 -> 들어있으면 True\n",
    "     * x not in 리스트 -> 들어있으면 False\n",
    "     * 아무것도 처리하고 싶지 않을 때 pass (일단 조건문의 형태만 만들어놓고 처리하는 부분은 비워놓고 싶을 때)\n"
   ]
  },
  {
   "cell_type": "code",
   "execution_count": 38,
   "metadata": {},
   "outputs": [
    {
     "name": "stdout",
     "output_type": "stream",
     "text": [
      "45\n"
     ]
    }
   ],
   "source": [
    "# 5. 조건문\n",
    "\n",
    "# while 반복문을 만들 때 무한루프가 되지 않게 조심해야함 \n",
    "i = 1 \n",
    "result = 0\n",
    "\n",
    "# i가 9보다 작거나 같을 때 아래 코드 시행\n",
    "while i <= 9:\n",
    "    result += i\n",
    "    i += 1\n",
    "print(result)"
   ]
  },
  {
   "cell_type": "code",
   "execution_count": 40,
   "metadata": {},
   "outputs": [
    {
     "name": "stdout",
     "output_type": "stream",
     "text": [
      "25\n",
      "1 번 학생은 합격\n",
      "5 번 학생은 합격\n"
     ]
    }
   ],
   "source": [
    "# for 문 : 특정한 변수를 이용하여 'in' 뒤에 오는 데이터에 포함되어있는 원소를 첫번째 인덱스부터 차례로 방문\n",
    "\n",
    "# range() 사용할 때가 많음 range(시작값, 끝값 +1)\n",
    "# 인자를 하나만 넣으면 0부터 \n",
    "\n",
    "# continue 는 반복문에서 남은 코드 실행 건너뛰고 다음 반복을 시행할 때 사용 \n",
    "\n",
    "result =0\n",
    "\n",
    "for i in range(1,10):\n",
    "    if i % 2 == 0:\n",
    "        continue   # 짝수일 때는 건너뛰고 다시 for문으로 돌아감 \n",
    "    result +=i\n",
    "print(result)\n",
    "\n",
    "# 즉시 탈출하고자 할 때 break 사용 (while문 사용시)\n",
    "\n",
    "# 특정번호의 학생은 제외하기\n",
    "\n",
    "scores = [90, 85, 77, 65, 97]\n",
    "cheating_student_list = {2, 4}\n",
    "for i in range(5):\n",
    "    if i+1 in cheating_student_list:\n",
    "        continue\n",
    "    if scores[i] >=80:\n",
    "        print(i+1, \"번 학생은 합격\")\n",
    "\n"
   ]
  },
  {
   "cell_type": "markdown",
   "metadata": {},
   "source": [
    "# 5. 함수와 람다표현식 \n",
    "\n",
    "     * 함수 외부에 있는 변수를 사용할 때 그 변수 앞에 global을 붙인다 \n",
    "\n",
    "     * 파이썬에서는 여러개의 반환값을 가질 수 있음\n",
    "\n",
    "     * 람다표현식 : 한줄에 작성 가능. 이름이 없는 함수\n",
    "     * print((lambda a, b: a+b)(3,7))  나중에 값은 10으로 나옴 \n"
   ]
  },
  {
   "cell_type": "code",
   "execution_count": 45,
   "metadata": {},
   "outputs": [
    {
     "name": "stdout",
     "output_type": "stream",
     "text": [
      "[('이순신', 32), ('홍길동', 50), ('아무개', 74)]\n",
      "[('이순신', 32), ('홍길동', 50), ('아무개', 74)]\n"
     ]
    }
   ],
   "source": [
    "#오름차순으로 정렬하기 \n",
    "\n",
    "array = [('홍길동', 50), ('이순신',32), ('아무개', 74)]\n",
    "\n",
    "# def 이용시\n",
    "\n",
    "def mykey(x):\n",
    "    return x[1]\n",
    "\n",
    "print(sorted(array, key=mykey))\n",
    "\n",
    "# lambda 이용시\n",
    "\n",
    "print(sorted(array, key=lambda x: x[1]))"
   ]
  },
  {
   "cell_type": "code",
   "execution_count": 46,
   "metadata": {},
   "outputs": [
    {
     "name": "stdout",
     "output_type": "stream",
     "text": [
      "[7, 9, 11, 13, 15]\n"
     ]
    }
   ],
   "source": [
    "# lambda는 여러개의 리스트에 적용할때도 유용\n",
    "\n",
    "list1 = [1, 2, 3, 4, 5]\n",
    "list2 = [6, 7, 8, 9, 10]\n",
    "result = map(lambda a, b: a+b, list1, list2)\n",
    "print(list(result))"
   ]
  },
  {
   "cell_type": "markdown",
   "metadata": {},
   "source": [
    "# 6. 유용한 표준 라이브러리\n",
    "\n",
    "    * itertools: 반복되는 형태 데이터 처리. 특히 순열과 조합 라이브러리\n",
    "    * heapq: 힙(heap) 자료구조 제공. 우선순위 큐 기능을 구현하기 위해 사용\n",
    "    * biscect: 이진탐색 (binary search) 기능 제공\n",
    "    * collections: 덱(deque), 카운터(Counter) 등의 유용한 자료구조 포함\n",
    "    * math: 필수적 수학기능"
   ]
  },
  {
   "cell_type": "code",
   "execution_count": 58,
   "metadata": {},
   "outputs": [
    {
     "name": "stdout",
     "output_type": "stream",
     "text": [
      "[('A', 'B', 'C'), ('A', 'C', 'B'), ('B', 'A', 'C'), ('B', 'C', 'A'), ('C', 'A', 'B'), ('C', 'B', 'A')]\n",
      "[('A', 'B'), ('A', 'C'), ('B', 'C')]\n"
     ]
    }
   ],
   "source": [
    "# itertools 이용해 순열, 조합 구하기\n",
    "\n",
    "\n",
    "# 순열\n",
    "from itertools import permutations \n",
    "\n",
    "data = ['A', 'B', 'C']\n",
    "\n",
    "result = list(permutations(data))\n",
    "print(result)\n",
    "\n",
    "# permutations 대신에 product로 쓰면 product(data, repeat=2) 중복허용해 2개뽑기\n",
    "\n",
    "# 조합\n",
    "\n",
    "from itertools import combinations\n",
    "\n",
    "\n",
    "data = ['A', 'B', 'C']\n",
    "result = list(combinations(data,2))\n",
    "print(result)\n",
    "\n",
    "# combinations_with_replacement 하면 복원추출 "
   ]
  },
  {
   "cell_type": "code",
   "execution_count": 62,
   "metadata": {},
   "outputs": [
    {
     "name": "stdout",
     "output_type": "stream",
     "text": [
      "Counter({'blue': 3, 'red': 2, 'green': 1})\n",
      "3\n",
      "{'red': 2, 'blue': 3, 'green': 1}\n"
     ]
    }
   ],
   "source": [
    "# Counter - 각 원소등장 횟수를 센다 \n",
    "\n",
    "from collections import Counter \n",
    "counter = Counter(['red', 'blue', 'red', 'green', 'blue', 'blue'])\n",
    "print(counter)\n",
    "print(counter['blue'])\n",
    "print(dict(counter)) # 사전자료형으로 반환 "
   ]
  },
  {
   "cell_type": "code",
   "execution_count": 66,
   "metadata": {},
   "outputs": [
    {
     "name": "stdout",
     "output_type": "stream",
     "text": [
      "7\n",
      "42\n"
     ]
    }
   ],
   "source": [
    "# 최대 공약수 최소공배수\n",
    "\n",
    "import math\n",
    "\n",
    "def lcm(a, b):\n",
    "    return a*b//math.gcd(a,b)\n",
    "\n",
    "print(math.gcd(21, 14)) # 최대 공약수\n",
    "print(lcm(21, 14))"
   ]
  },
  {
   "cell_type": "code",
   "execution_count": null,
   "metadata": {},
   "outputs": [],
   "source": []
  }
 ],
 "metadata": {
  "kernelspec": {
   "display_name": "Python 3",
   "language": "python",
   "name": "python3"
  },
  "language_info": {
   "codemirror_mode": {
    "name": "ipython",
    "version": 3
   },
   "file_extension": ".py",
   "mimetype": "text/x-python",
   "name": "python",
   "nbconvert_exporter": "python",
   "pygments_lexer": "ipython3",
   "version": "3.6.10"
  }
 },
 "nbformat": 4,
 "nbformat_minor": 4
}
