{
 "cells": [
  {
   "cell_type": "markdown",
   "metadata": {},
   "source": [
    "# 1. 그래프 탐색 알고리즘: DFS/ BFS\n",
    "\n",
    "## - 많은 양의 데이터중에 원하는 데이터 찾는 과정\n",
    "\n",
    "## - 스택 자료구조 \n",
    "    * 선입후출: 먼저 입력된 데이터가 나중에 나감. 입구와 출구가 동일한 형태 시각화\n",
    "    * 리스트에서 append 하면 가장 오른쪽으로 입력되고 pop 사용하면 오른쪽부터 제거됨\n",
    "    * 최상단 원소부터(끝에서부터) 출력하는 건 print(리스트이름[::-1]) \n",
    "    \n",
    "## - 큐 자료구조\n",
    "    * 선입선출: 먼저 입력된 데이터 먼저 나감. 입구와 출구가 모두 뚫려있는 터널 생각해보기\n",
    "    * from collections import deque  <- 이걸 이용해야 시간이 덜걸림 \n",
    "    * queue = deque() 로 해서 똑같이 append 사용. popleft 가장 왼쪽 값 뺄 때 \n",
    "\n",
    "## - 재귀 함수(recursive function)\n",
    "    * 자기 자신을 다시 호출하는 함수\n",
    "    * 최대 재귀 깊이가 있어서 별다른 설정없이 호출하면 오류메세지 뜨기도 함\n",
    "    * 일반적으로 종료조건 명시해야 함 \n",
    "    "
   ]
  },
  {
   "cell_type": "code",
   "execution_count": null,
   "metadata": {},
   "outputs": [],
   "source": [
    "# 팩토리얼 구현 예제 n!\n",
    "    \n",
    "# 반복적으로 구현한 n!\n",
    "\n",
    "def factorial_iterative(n):\n",
    "    result = 1\n",
    "    for i in range(1, n+1):\n",
    "        result *= i\n",
    "    return result \n",
    "\n",
    "# 재귀적으로 구현한 n!\n",
    "\n",
    "def factorial_recursive(n):\n",
    "    if n <= 1 : #n이 1 이하인 경우 1을 반환\n",
    "        return 1 \n",
    "    return n * factorial_recursive(n-1)\n"
   ]
  },
  {
   "cell_type": "code",
   "execution_count": null,
   "metadata": {},
   "outputs": [],
   "source": [
    "# 유클리드 호제법 최대공약수 계산 예제\n",
    "    \n",
    "# A>B  두수의 최대공약수는 A를 B로 나눈 나머지 R과 B의 최대공약수와 같음\n",
    "\n",
    "def gcd (a, b):\n",
    "    if a % b ==0:\n",
    "        return b\n",
    "    else:\n",
    "        return gcd(b, a%b)\n",
    "print(gcd(162, 192))"
   ]
  },
  {
   "cell_type": "markdown",
   "metadata": {},
   "source": [
    "# 2. DFS (Depth -First Search)\n",
    "\n",
    "## - 깊이 우선 탐색. 그래프에서 깊은부분을 우선\n",
    "## -스택 자료구조 (혹은 재귀 함수) 이용 \n",
    "\n"
   ]
  },
  {
   "cell_type": "code",
   "execution_count": null,
   "metadata": {},
   "outputs": [],
   "source": [
    "# DFS 구현 코드\n",
    "\n",
    "# 각 노드 연결된 그래프 표현\n",
    "\n",
    "def dfs(graph, v, visited):\n",
    "    #현재 노드를 방문 처리\n",
    "    visited[v]= True \n",
    "    print(v, end=' ')\n",
    "    #현재 노드와 연결된 다른 노드를 재귀적으로 방문\n",
    "    for i in graph[v]:\n",
    "        if visited[i] == False:\n",
    "            dfs(graph, i, visited)\n",
    "            \n",
    "graph = [\n",
    "    # 인덱스 0을 사용하지 않더라도 맞춰주기위해 빈칸으로 \n",
    "    [],\n",
    "    [2,3,8],\n",
    "    [1,7],\n",
    "    [1,4,5],\n",
    "    [3,5],\n",
    "    [3,4],\n",
    "    [7],\n",
    "    [2,6,8],\n",
    "    [1,7]\n",
    "]\n",
    "\n",
    "visited = [False] * 9\n",
    "  \n",
    "\n",
    "\n",
    "# 정의된 DFS 함수 호출\n",
    "dfs(graph, 1, visited)\n"
   ]
  },
  {
   "cell_type": "markdown",
   "metadata": {},
   "source": [
    "# 3. BFS (Breath-First Search)\n",
    "\n",
    "## - 너비 우선 탐색. 가까운 노드부터 우선적으로 탐색하는 알고리즘\n",
    "## - 큐자료구조를 이용 \n",
    "    * 인접한 노드 한 번에 큐에 삽입하고 방문 처리를 함\n",
    "    "
   ]
  },
  {
   "cell_type": "code",
   "execution_count": null,
   "metadata": {},
   "outputs": [],
   "source": [
    "from collections import deque\n",
    "\n",
    "def bfs(graph, start , visited):\n",
    "    queue= deque([start])\n",
    "    visited[v] = True \n",
    "    while queue:\n",
    "        # 큐에서 하나의 원소 뽑아 출력하기\n",
    "        v = queue.popleft()\n",
    "        print(v, end= ' ')\n",
    "        # 아직 방문하지 않은 인접한 원소들을 큐에 삽입\n",
    "        for i in graph[v]:\n",
    "            if not visited[i]:\n",
    "                queue.append(i)\n",
    "                visited[i] = True\n",
    "\n",
    "graph = [\n",
    "    # 인덱스 0을 사용하지 않더라도 맞춰주기위해 빈칸으로 \n",
    "    [],\n",
    "    [2,3,8],\n",
    "    [1,7],\n",
    "    [1,4,5],\n",
    "    [3,5],\n",
    "    [3,4],\n",
    "    [7],\n",
    "    [2,6,8],\n",
    "    [1,7]\n",
    "]\n",
    "\n",
    "visited = [False] * 9\n",
    "\n",
    "dfs(graph, 1, visited)"
   ]
  },
  {
   "cell_type": "code",
   "execution_count": 7,
   "metadata": {},
   "outputs": [
    {
     "name": "stdout",
     "output_type": "stream",
     "text": [
      "3 3\n",
      "100\n",
      "010\n",
      "111\n",
      "2\n"
     ]
    }
   ],
   "source": [
    "# 음료수 얼려먹기 문제\n",
    "\n",
    "n, m = map(int, input().split())\n",
    "\n",
    "def dfs(x,y):\n",
    "    if x <= -1 or x>=n or y <=-1 or y>=m:\n",
    "        return False \n",
    "    # 현재 노드를 아직 방문하지 않았다면 \n",
    "    if graph[x][y] == 0:\n",
    "        # 해당노드 방문처리\n",
    "        graph[x][y] = 1\n",
    "        # 상, 하, 좌, 우도 재귀적으로 호출\n",
    "        dfs(x-1, y)\n",
    "        dfs(x, y-1)\n",
    "        dfs(x+1, y)\n",
    "        dfs(x, y+1)\n",
    "        return True\n",
    "    return False\n",
    "\n",
    "\n",
    "# 2차원 리스트의 맵 정보 입력 받기\n",
    "graph = []\n",
    "for i in range(n):\n",
    "    graph.append(list(map(int, input())))\n",
    "    \n",
    "# 모든 노드(위치)에 대하여 음료수 채우기\n",
    "result = 0\n",
    "for i in range(n):\n",
    "    for j in range(m):\n",
    "        # 현재 위치에서 DFS 수행\n",
    "        if dfs(i,j) == True:\n",
    "            result += 1\n",
    "print(result)\n",
    "\n",
    "\n"
   ]
  },
  {
   "cell_type": "code",
   "execution_count": 11,
   "metadata": {},
   "outputs": [
    {
     "name": "stdout",
     "output_type": "stream",
     "text": [
      "5 5\n",
      "11111\n",
      "11111\n",
      "11111\n",
      "11111\n",
      "11111\n",
      "9\n"
     ]
    }
   ],
   "source": [
    "# 괴물 문제\n",
    "\n",
    "from collections import deque\n",
    "n, m = map(int, input().split())\n",
    "graph = []\n",
    "for i in range(n):\n",
    "    graph.append(list(map(int, input())))\n",
    "\n",
    "# 네 가지 방향 상 하 좌 우 \n",
    "dx = [-1, 1, 0, 0]\n",
    "dy = [0, 0, -1, 1]\n",
    "\n",
    "def bfs(x,y):\n",
    "    queue = deque()\n",
    "    queue.append((x, y))\n",
    "    # 큐가 빌 때까지 반복하기\n",
    "    while queue:\n",
    "        x, y = queue.popleft()\n",
    "        # 현재 위치에서 4가지 방향으로의 위치 확인\n",
    "        for i in range(4):\n",
    "            nx = x + dx[i]\n",
    "            ny = y + dy[i]\n",
    "            if nx < 0 or nx >= n or ny < 0 or ny >= m:\n",
    "                continue\n",
    "            # 0인 경우 무시\n",
    "            if graph[nx][ny] ==0:\n",
    "                continue\n",
    "            # 해당 노드 처음 방문하는 경우에만 최단거리 기록\n",
    "            if graph[nx][ny] ==1:\n",
    "                graph[nx][ny] = graph[x][y] + 1\n",
    "                queue.append((nx, ny))\n",
    "    return graph[n-1][m-1]\n",
    "\n",
    "print(bfs(0,0))"
   ]
  },
  {
   "cell_type": "code",
   "execution_count": null,
   "metadata": {},
   "outputs": [],
   "source": []
  }
 ],
 "metadata": {
  "kernelspec": {
   "display_name": "Python 3",
   "language": "python",
   "name": "python3"
  },
  "language_info": {
   "codemirror_mode": {
    "name": "ipython",
    "version": 3
   },
   "file_extension": ".py",
   "mimetype": "text/x-python",
   "name": "python",
   "nbconvert_exporter": "python",
   "pygments_lexer": "ipython3",
   "version": "3.6.10"
  }
 },
 "nbformat": 4,
 "nbformat_minor": 4
}
